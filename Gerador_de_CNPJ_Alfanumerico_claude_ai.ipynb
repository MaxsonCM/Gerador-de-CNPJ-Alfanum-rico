{
  "nbformat": 4,
  "nbformat_minor": 0,
  "metadata": {
    "colab": {
      "provenance": [],
      "authorship_tag": "ABX9TyNoAv0mSEIz8Sr0O1MN4xbl",
      "include_colab_link": true
    },
    "kernelspec": {
      "name": "python3",
      "display_name": "Python 3"
    },
    "language_info": {
      "name": "python"
    }
  },
  "cells": [
    {
      "cell_type": "markdown",
      "metadata": {
        "id": "view-in-github",
        "colab_type": "text"
      },
      "source": [
        "<a href=\"https://colab.research.google.com/github/MaxsonCM/Gerador-de-CNPJ-Alfanum-rico/blob/main/Gerador_de_CNPJ_Alfanumerico_claude_ai.ipynb\" target=\"_parent\"><img src=\"https://colab.research.google.com/assets/colab-badge.svg\" alt=\"Open In Colab\"/></a>"
      ]
    },
    {
      "cell_type": "code",
      "execution_count": 7,
      "metadata": {
        "colab": {
          "base_uri": "https://localhost:8080/"
        },
        "id": "6NpbR9mvx4U6",
        "outputId": "55cc638a-b424-457e-81b2-1300fddd3b8f"
      },
      "outputs": [
        {
          "output_type": "stream",
          "name": "stdout",
          "text": [
            "SD.Y0E.PYV/PQK5-62\n",
            "MO.HPR.JDB/OHY6-92\n",
            "V9.AXB.61X/0X7N-17\n",
            "XO.JUN.U5L/NEQ0-64\n",
            "QF.LU5.0XC/C6RW-65\n"
          ]
        }
      ],
      "source": [
        "#by claude.ai\n",
        "import random\n",
        "import string\n",
        "\n",
        "def generate_valid_alphanum_cnpj():\n",
        "    def alpha_to_numeric(char):\n",
        "        if char.isdigit():\n",
        "            return int(char)\n",
        "        return ord(char) - ord('A') + 17\n",
        "\n",
        "    def calculate_digit(base, filial, weights):\n",
        "        total = sum(alpha_to_numeric(c) * w for c, w in zip(base + filial, weights))\n",
        "        remainder = total % 11\n",
        "        return '0' if remainder < 2 else str(11 - remainder)\n",
        "\n",
        "    # Gera os 8 primeiros dígitos aleatoriamente (podem ser alfanuméricos)\n",
        "    base = ''.join(random.choices(string.ascii_uppercase + string.digits, k=8))\n",
        "\n",
        "    # Adiciona o número da filial (geralmente 0001 para a matriz)\n",
        "    # filial = '0001'\n",
        "\n",
        "    # OU Adiciona o número da filial Alfanumerico\n",
        "    filial = ''.join(random.choices(string.ascii_uppercase + string.digits, k=4))\n",
        "\n",
        "    # Calcula o primeiro dígito verificador\n",
        "    digit1 = calculate_digit(base, filial, [5,4,3,2,9,8,7,6,5,4,3,2])\n",
        "\n",
        "    # Calcula o segundo dígito verificador\n",
        "    digit2 = calculate_digit(base, filial + digit1, [6,5,4,3,2,9,8,7,6,5,4,3,2])\n",
        "\n",
        "    # Monta o CNPJ completo\n",
        "    cnpj = f\"{base}{filial}{digit1}{digit2}\"\n",
        "\n",
        "    # Formata o CNPJ\n",
        "    formatted_cnpj = f\"{cnpj[:2]}.{cnpj[2:5]}.{cnpj[5:8]}/{cnpj[8:12]}-{cnpj[12:]}\"\n",
        "\n",
        "    return formatted_cnpj\n",
        "\n",
        "# Exemplo de uso\n",
        "for _ in range(5):\n",
        "    print(generate_valid_alphanum_cnpj())"
      ]
    }
  ]
}